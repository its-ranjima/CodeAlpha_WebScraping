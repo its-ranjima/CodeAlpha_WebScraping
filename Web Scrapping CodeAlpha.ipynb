{
 "cells": [
  {
   "cell_type": "markdown",
   "id": "0d6584cc-b273-44a5-9d43-7a97d4108d04",
   "metadata": {},
   "source": [
    "# Import Libraries"
   ]
  },
  {
   "cell_type": "code",
   "execution_count": 3,
   "id": "604a88ed-b937-4b6b-b826-c68b07001ccb",
   "metadata": {},
   "outputs": [],
   "source": [
    "import requests\n",
    "from bs4 import BeautifulSoup\n",
    "import pandas as pd\n",
    "import matplotlib.pyplot as plt"
   ]
  },
  {
   "cell_type": "markdown",
   "id": "7d89ecc3-4519-419e-9d90-b343a509ad6c",
   "metadata": {},
   "source": [
    "#  Initialize Empty List"
   ]
  },
  {
   "cell_type": "code",
   "execution_count": 5,
   "id": "e435535b-d387-409b-a167-bb65b5147a59",
   "metadata": {},
   "outputs": [],
   "source": [
    "titles, prices, ratings = [], [], []"
   ]
  },
  {
   "cell_type": "markdown",
   "id": "9a1fd644-6724-482b-a30d-00a1ba4255c9",
   "metadata": {},
   "source": [
    "# Loop Through Pages and Scrape Book Data"
   ]
  },
  {
   "cell_type": "code",
   "execution_count": 7,
   "id": "065ba27a-f594-4e41-b846-ed3c2ef24385",
   "metadata": {},
   "outputs": [],
   "source": [
    "for page in range(1, 6):  # scraping first 5 pages\n",
    "    url = f\"http://books.toscrape.com/catalogue/page-{page}.html\"\n",
    "    response = requests.get(url)\n",
    "    soup = BeautifulSoup(response.text, 'html.parser')\n",
    "\n",
    "    books = soup.find_all(\"article\", class_=\"product_pod\")\n",
    "    for book in books:\n",
    "        title = book.h3.a['title']\n",
    "        price = float(book.find(\"p\", class_=\"price_color\").text[2:])\n",
    "        rating = book.p['class'][1]\n",
    "\n",
    "        titles.append(title)\n",
    "        prices.append(price)\n",
    "        ratings.append(rating)\n"
   ]
  },
  {
   "cell_type": "markdown",
   "id": "07741a1e-ce24-43c8-bcd7-3ff8462996ae",
   "metadata": {},
   "source": [
    "# Create DataFrame and Export CSV"
   ]
  },
  {
   "cell_type": "code",
   "execution_count": 9,
   "id": "8c9781a5-7d69-471b-a0bd-4894d37756a1",
   "metadata": {},
   "outputs": [
    {
     "data": {
      "text/html": [
       "<div>\n",
       "<style scoped>\n",
       "    .dataframe tbody tr th:only-of-type {\n",
       "        vertical-align: middle;\n",
       "    }\n",
       "\n",
       "    .dataframe tbody tr th {\n",
       "        vertical-align: top;\n",
       "    }\n",
       "\n",
       "    .dataframe thead th {\n",
       "        text-align: right;\n",
       "    }\n",
       "</style>\n",
       "<table border=\"1\" class=\"dataframe\">\n",
       "  <thead>\n",
       "    <tr style=\"text-align: right;\">\n",
       "      <th></th>\n",
       "      <th>Title</th>\n",
       "      <th>Price (£)</th>\n",
       "      <th>Rating</th>\n",
       "    </tr>\n",
       "  </thead>\n",
       "  <tbody>\n",
       "    <tr>\n",
       "      <th>0</th>\n",
       "      <td>A Light in the Attic</td>\n",
       "      <td>51.77</td>\n",
       "      <td>Three</td>\n",
       "    </tr>\n",
       "    <tr>\n",
       "      <th>1</th>\n",
       "      <td>Tipping the Velvet</td>\n",
       "      <td>53.74</td>\n",
       "      <td>One</td>\n",
       "    </tr>\n",
       "    <tr>\n",
       "      <th>2</th>\n",
       "      <td>Soumission</td>\n",
       "      <td>50.10</td>\n",
       "      <td>One</td>\n",
       "    </tr>\n",
       "    <tr>\n",
       "      <th>3</th>\n",
       "      <td>Sharp Objects</td>\n",
       "      <td>47.82</td>\n",
       "      <td>Four</td>\n",
       "    </tr>\n",
       "    <tr>\n",
       "      <th>4</th>\n",
       "      <td>Sapiens: A Brief History of Humankind</td>\n",
       "      <td>54.23</td>\n",
       "      <td>Five</td>\n",
       "    </tr>\n",
       "  </tbody>\n",
       "</table>\n",
       "</div>"
      ],
      "text/plain": [
       "                                   Title  Price (£) Rating\n",
       "0                   A Light in the Attic      51.77  Three\n",
       "1                     Tipping the Velvet      53.74    One\n",
       "2                             Soumission      50.10    One\n",
       "3                          Sharp Objects      47.82   Four\n",
       "4  Sapiens: A Brief History of Humankind      54.23   Five"
      ]
     },
     "execution_count": 9,
     "metadata": {},
     "output_type": "execute_result"
    }
   ],
   "source": [
    "df = pd.DataFrame({\n",
    "    \"Title\": titles,\n",
    "    \"Price (£)\": prices,\n",
    "    \"Rating\": ratings})\n",
    "\n",
    "# Save to CSV\n",
    "df.to_csv(\"books_scraped.csv\", index=False)\n",
    "\n",
    "# Preview first 5 rows\n",
    "df.head()\n"
   ]
  },
  {
   "cell_type": "markdown",
   "id": "ac9e2246-7847-46c2-a212-a6676eb9e2b0",
   "metadata": {},
   "source": [
    "# Plot Price Distribution"
   ]
  },
  {
   "cell_type": "code",
   "execution_count": 11,
   "id": "33a75046-9b20-43a6-a234-b6cee83a3bb4",
   "metadata": {},
   "outputs": [
    {
     "data": {
      "image/png": "[encoded data removed]",
      "text/plain": [
       "<Figure size 800x500 with 1 Axes>"
      ]
     },
     "metadata": {},
     "output_type": "display_data"
    }
   ],
   "source": [
    "plt.figure(figsize=(8, 5))\n",
    "plt.hist(df[\"Price (£)\"], bins=10, color='skyblue', edgecolor='black')\n",
    "plt.title(\"Book Price Distribution\")\n",
    "plt.xlabel(\"Price (£)\")\n",
    "plt.ylabel(\"Number of Books\")\n",
    "plt.grid(True)\n",
    "plt.show()\n"
   ]
  },
  {
   "cell_type": "markdown",
   "id": "015e5cac-24a6-48e4-90a9-375a70fa6388",
   "metadata": {},
   "source": [
    "# Insights\n",
    "- Scraped 100 books across 5 pages.\n",
    "\n",
    "- Most books cost between £20–£40.\n",
    "\n",
    "- \"Three\" is the most common rating."
   ]
  },
  {
   "cell_type": "code",
   "execution_count": null,
   "id": "dc63121d-b777-4d07-b0f8-606228039ad9",
   "metadata": {},
   "outputs": [],
   "source": []
  },
  {
   "cell_type": "code",
   "execution_count": null,
   "id": "a707835a-cc1f-4924-97a9-3919e84f3e2e",
   "metadata": {},
   "outputs": [],
   "source": []
  },
  {
   "cell_type": "code",
   "execution_count": null,
   "id": "2ca66998-52b1-4a44-a4d2-e7769098a92d",
   "metadata": {},
   "outputs": [],
   "source": []
  },
  {
   "cell_type": "code",
   "execution_count": null,
   "id": "1a9c9af2-7265-4f44-ae68-a9022a8c5c1e",
   "metadata": {},
   "outputs": [],
   "source": []
  },
  {
   "cell_type": "code",
   "execution_count": null,
   "id": "a6900133-6126-4932-9c97-e795754a8a9a",
   "metadata": {},
   "outputs": [],
   "source": []
  }
 ],
 "metadata": {
  "kernelspec": {
   "display_name": "Python 3 (ipykernel)",
   "language": "python",
   "name": "python3"
  },
  "language_info": {
   "codemirror_mode": {
    "name": "ipython",
    "version": 3
   },
   "file_extension": ".py",
   "mimetype": "text/x-python",
   "name": "python",
   "nbconvert_exporter": "python",
   "pygments_lexer": "ipython3",
   "version": "3.12.4"
  }
 },
 "nbformat": 4,
 "nbformat_minor": 5
}
